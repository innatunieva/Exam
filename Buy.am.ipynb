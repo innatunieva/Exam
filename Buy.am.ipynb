{
 "cells": [
  {
   "cell_type": "code",
   "execution_count": 13,
   "metadata": {
    "collapsed": false
   },
   "outputs": [
    {
     "name": "stdout",
     "output_type": "stream",
     "text": [
      "[<h2 style=\"text-transform:uppercase\">Armenian products</h2>, <h2 style=\"text-transform:uppercase\">Clothes / Accessories</h2>, <h2 style=\"text-transform:uppercase\">Shoes</h2>, <h2 style=\"text-transform:uppercase\">Sports</h2>, <h2 style=\"text-transform:uppercase\">Jewelry / Watches</h2>, <h2 style=\"text-transform:uppercase\">Kids' World</h2>, <h2 style=\"text-transform:uppercase\">Books</h2>, <h2 style=\"text-transform:uppercase\">Stationary</h2>, <h2 style=\"text-transform:uppercase\">Gifts</h2>, <h2 style=\"text-transform:uppercase\">Flowers</h2>, <h2 style=\"text-transform:uppercase\">Eyeglasses / Lenses</h2>, <h2 style=\"text-transform:uppercase\">Perfume / Cosmetics</h2>, <h2 style=\"text-transform:uppercase\">Games</h2>, <h2 style=\"text-transform:uppercase\">Computers / Accessories</h2>, <h2 style=\"text-transform:uppercase\">Electronics / Accessories</h2>, <h2 style=\"text-transform:uppercase\">Tools</h2>, <h2 style=\"text-transform:uppercase\">Medical equipment / Accessories</h2>, <h2 style=\"text-transform:uppercase\">Household goods</h2>, <h2 style=\"text-transform:uppercase\">Food</h2>, <h2 style=\"text-transform:uppercase\">Alcoholic beverages</h2>, <h2 style=\"text-transform:uppercase\">Juice / Drinks</h2>, <h2 style=\"text-transform:uppercase\">Party supplies</h2>, <h2 style=\"text-transform:uppercase\">Other</h2>, <h2 class=\"bottom-title\"></h2>]\n"
     ]
    }
   ],
   "source": [
    "import time\n",
    "import json\n",
    "from BeautifulSoup import *\n",
    "from selenium import webdriver\n"
   ]
  },
  {
   "cell_type": "code",
   "execution_count": 22,
   "metadata": {
    "collapsed": false
   },
   "outputs": [
    {
     "name": "stdout",
     "output_type": "stream",
     "text": [
      "[<h2 style=\"text-transform:uppercase\">Armenian products</h2>, <h2 style=\"text-transform:uppercase\">Clothes / Accessories</h2>, <h2 style=\"text-transform:uppercase\">Shoes</h2>, <h2 style=\"text-transform:uppercase\">Sports</h2>, <h2 class=\"bottom-title\"></h2>]\n"
     ]
    }
   ],
   "source": [
    "driver = webdriver.Chrome()\n",
    "url = \"https://www.buy.am/en/partners\"\n",
    "driver.get(url)\n",
    "SCROLL_PAUSE_TIME = 0.3\n",
    "\n",
    "\n",
    "last = driver.execute_script(\"return document.body.scrollHeight\")\n",
    "\n",
    "while True:\n",
    "\n",
    "    driver.execute_script(\"window.scrollTo(0, document.body.scrollHeight);\")\n",
    "\n",
    "   \n",
    "    time.sleep(SCROLL_PAUSE_TIME)\n",
    "\n",
    "\n",
    "    new = driver.execute_script(\"return document.body.scrollHeight\")\n",
    "    if new_height == last_height:\n",
    "        break\n",
    "    last = new\n",
    "html = driver.page_source\n",
    "soup = BeautifulSoup(html)\n",
    "x = soup.findAll('h2')\n",
    "print x"
   ]
  },
  {
   "cell_type": "code",
   "execution_count": 23,
   "metadata": {
    "collapsed": false
   },
   "outputs": [
    {
     "ename": "IndentationError",
     "evalue": "unexpected indent (<ipython-input-23-f93dd2419c0b>, line 6)",
     "output_type": "error",
     "traceback": [
      "\u001b[0;36m  File \u001b[0;32m\"<ipython-input-23-f93dd2419c0b>\"\u001b[0;36m, line \u001b[0;32m6\u001b[0m\n\u001b[0;31m    new_height = driver.execute_script(\"return document.body.scrollHeight\")\u001b[0m\n\u001b[0m    ^\u001b[0m\n\u001b[0;31mIndentationError\u001b[0m\u001b[0;31m:\u001b[0m unexpected indent\n"
     ]
    }
   ],
   "source": [
    "last_height = driver.execute_script(\"return document.body.scrollHeight\")\n",
    "\n",
    "while True:\n",
    "    driver.execute_script(\"window.scrollTo(0, document.body.scrollHeight);\")\n",
    "    time.sleep(SCROLL_PAUSE_TIME)\n",
    "     new = driver.execute_script(\"return document.body.scrollHeight\")\n",
    "    if new == last:\n",
    "        break\n",
    "    last_height = new_height\n",
    "html = driver.page_source\n",
    "soup = BeautifulSoup(html)\n",
    "x = soup.findAll('h2')\n",
    "print x"
   ]
  },
  {
   "cell_type": "code",
   "execution_count": 15,
   "metadata": {
    "collapsed": false
   },
   "outputs": [
    {
     "data": {
      "text/plain": [
       "u'Armenian products'"
      ]
     },
     "execution_count": 15,
     "metadata": {},
     "output_type": "execute_result"
    }
   ],
   "source": [
    "x[0].text"
   ]
  },
  {
   "cell_type": "code",
   "execution_count": 17,
   "metadata": {
    "collapsed": false
   },
   "outputs": [
    {
     "ename": "AttributeError",
     "evalue": "'NoneType' object has no attribute 'findAll'",
     "output_type": "error",
     "traceback": [
      "\u001b[0;31m---------------------------------------------------------------------------\u001b[0m",
      "\u001b[0;31mAttributeError\u001b[0m                            Traceback (most recent call last)",
      "\u001b[0;32m<ipython-input-17-596a58e8ef18>\u001b[0m in \u001b[0;36m<module>\u001b[0;34m()\u001b[0m\n\u001b[1;32m      7\u001b[0m     \u001b[0mindex\u001b[0m\u001b[1;33m[\u001b[0m\u001b[1;36m0\u001b[0m\u001b[1;33m]\u001b[0m\u001b[1;33m\u001b[0m\u001b[0m\n\u001b[1;32m      8\u001b[0m     \u001b[0my\u001b[0m \u001b[1;33m=\u001b[0m \u001b[0mx\u001b[0m\u001b[1;33m[\u001b[0m\u001b[0mi\u001b[0m\u001b[1;33m]\u001b[0m\u001b[1;33m.\u001b[0m\u001b[0mfindNextSibling\u001b[0m\u001b[1;33m(\u001b[0m\u001b[1;33m)\u001b[0m\u001b[1;33m\u001b[0m\u001b[0m\n\u001b[0;32m----> 9\u001b[0;31m     \u001b[1;32mfor\u001b[0m \u001b[0mi\u001b[0m \u001b[1;32min\u001b[0m \u001b[0my\u001b[0m\u001b[1;33m.\u001b[0m\u001b[0mfindAll\u001b[0m\u001b[1;33m(\u001b[0m\u001b[1;34m'li'\u001b[0m\u001b[1;33m)\u001b[0m\u001b[1;33m:\u001b[0m\u001b[1;33m\u001b[0m\u001b[0m\n\u001b[0m\u001b[1;32m     10\u001b[0m         \u001b[0mlink0\u001b[0m \u001b[1;33m=\u001b[0m \u001b[0mi\u001b[0m\u001b[1;33m.\u001b[0m\u001b[0mfind\u001b[0m\u001b[1;33m(\u001b[0m\u001b[1;34m'a'\u001b[0m\u001b[1;33m)\u001b[0m\u001b[1;33m.\u001b[0m\u001b[0mget\u001b[0m\u001b[1;33m(\u001b[0m\u001b[1;34m'href'\u001b[0m\u001b[1;33m)\u001b[0m\u001b[1;33m\u001b[0m\u001b[0m\n\u001b[1;32m     11\u001b[0m         \u001b[0mname\u001b[0m \u001b[1;33m=\u001b[0m \u001b[0mi\u001b[0m\u001b[1;33m.\u001b[0m\u001b[0mfind\u001b[0m\u001b[1;33m(\u001b[0m\u001b[1;34m'a'\u001b[0m\u001b[1;33m)\u001b[0m\u001b[1;33m.\u001b[0m\u001b[0mget\u001b[0m\u001b[1;33m(\u001b[0m\u001b[1;34m'href'\u001b[0m\u001b[1;33m)\u001b[0m\u001b[1;33m.\u001b[0m\u001b[0mre\u001b[0m\u001b[1;33m(\u001b[0m\u001b[1;34m'/+(.+)'\u001b[0m\u001b[1;33m)\u001b[0m\u001b[1;33m\u001b[0m\u001b[0m\n",
      "\u001b[0;31mAttributeError\u001b[0m: 'NoneType' object has no attribute 'findAll'"
     ]
    }
   ],
   "source": [
    "import re\n",
    "index = []\n",
    "name_list = []\n",
    "link_list = []\n",
    "for i in range(len(x)):\n",
    "    index.append(x[i].text)\n",
    "    index[0] \n",
    "    y = x[i].findNextSibling()\n",
    "    for i in y.findAll('li'):\n",
    "        link0 = i.find('a').get('href')\n",
    "        name = i.find('a').get('href').re('/+(.+)')\n",
    "        link_list.append(list0)\n",
    "        name_list.append(name)"
   ]
  },
  {
   "cell_type": "code",
   "execution_count": null,
   "metadata": {
    "collapsed": true
   },
   "outputs": [],
   "source": []
  }
 ],
 "metadata": {
  "kernelspec": {
   "display_name": "Python 2",
   "language": "python",
   "name": "python2"
  },
  "language_info": {
   "codemirror_mode": {
    "name": "ipython",
    "version": 2
   },
   "file_extension": ".py",
   "mimetype": "text/x-python",
   "name": "python",
   "nbconvert_exporter": "python",
   "pygments_lexer": "ipython2",
   "version": "2.7.13"
  }
 },
 "nbformat": 4,
 "nbformat_minor": 2
}
